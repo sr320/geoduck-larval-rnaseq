{
 "cells": [
  {
   "cell_type": "markdown",
   "metadata": {},
   "source": [
    "# Getting some larval Data"
   ]
  },
  {
   "cell_type": "markdown",
   "metadata": {},
   "source": [
    "![file](img/samples_01.png)"
   ]
  },
  {
   "cell_type": "markdown",
   "metadata": {},
   "source": [
    "link: https://docs.google.com/spreadsheets/d/1_XqIOPVHSBVGscnjzDSWUeRL7HUHXfaHxVzec-I-8Xk/edit#gid=0"
   ]
  },
  {
   "cell_type": "code",
   "execution_count": 1,
   "metadata": {},
   "outputs": [
    {
     "name": "stdout",
     "output_type": "stream",
     "text": [
      "../data/Trueseq-stranded-mRNA-libraries-GeoRNA8-H1-NR021_S5_L001_R1_001.fastq\n",
      "../data/Trueseq-stranded-mRNA-libraries-GeoRNA8-H1-NR021_S5_L001_R2_001.fastq\n"
     ]
    }
   ],
   "source": [
    "!ls ../data/*"
   ]
  },
  {
   "cell_type": "markdown",
   "metadata": {},
   "source": [
    "# Get genome"
   ]
  },
  {
   "cell_type": "code",
   "execution_count": 4,
   "metadata": {},
   "outputs": [
    {
     "name": "stdout",
     "output_type": "stream",
     "text": [
      "  % Total    % Received % Xferd  Average Speed   Time    Time     Time  Current\n",
      "                                 Dload  Upload   Total   Spent    Left  Speed\n",
      "100  913M  100  913M    0     0  3389k      0  0:04:36  0:04:36 --:--:-- 3556k5:30  0:00:27  0:05:03 3334k1  0:04:49 3577k3277k      0  0:04:45  0:01:17  0:03:28 3536k3:02 3409k53 3450k 0  3346k      0  0:04:39  0:02:22  0:02:17 3213k:52  0:01:44 3768k3779k87  913M   87  802M    0     0  3388k      0  0:04:36  0:04:02  0:00:34 3768k\n"
     ]
    }
   ],
   "source": [
    "!curl --insecure \\\n",
    "-O https://gannet.fish.washington.edu/Atumefaciens/20191105_swoose_pgen_v074_renaming/Panopea-generosa-v1.0.fa \\\n",
    "> ../data/Panopea-generosa-v1.0.fa"
   ]
  },
  {
   "cell_type": "code",
   "execution_count": 12,
   "metadata": {},
   "outputs": [],
   "source": [
    "!mv Panopea-generosa-v1.0.fa ../data/Panopea-generosa-v1.0.fa"
   ]
  },
  {
   "cell_type": "markdown",
   "metadata": {},
   "source": [
    "# Run Kallisto"
   ]
  },
  {
   "cell_type": "code",
   "execution_count": 11,
   "metadata": {},
   "outputs": [
    {
     "name": "stdout",
     "output_type": "stream",
     "text": [
      "kallisto 0.46.1\n",
      "\n",
      "Usage: kallisto <CMD> [arguments] ..\n",
      "\n",
      "Where <CMD> can be one of:\n",
      "\n",
      "    index         Builds a kallisto index \n",
      "    quant         Runs the quantification algorithm \n",
      "    bus           Generate BUS files for single-cell data \n",
      "    pseudo        Runs the pseudoalignment step \n",
      "    merge         Merges several batch runs \n",
      "    h5dump        Converts HDF5-formatted results to plaintext\n",
      "    inspect       Inspects and gives information about an index\n",
      "    version       Prints version information\n",
      "    cite          Prints citation information\n",
      "\n",
      "Running kallisto <CMD> without arguments prints usage information for <CMD>\n",
      "\n"
     ]
    }
   ],
   "source": [
    "!/Applications/bioinfo/kallisto/kallisto"
   ]
  },
  {
   "cell_type": "code",
   "execution_count": 14,
   "metadata": {},
   "outputs": [
    {
     "name": "stdout",
     "output_type": "stream",
     "text": [
      "  % Total    % Received % Xferd  Average Speed   Time    Time     Time  Current\n",
      "                                 Dload  Upload   Total   Spent    Left  Speed\n",
      "100  972M  100  972M    0     0  2914k      0  0:05:41  0:05:41 --:--:-- 3052k  0:00:04  0:12:44 1294k0:20  0:09:18 1909k973k     0  0:08:23  0:00:35  0:07:48 3367k  0  0:08:11  0:00:43  0:07:28 2047k  0:07:23 2310k:15  0:04:27 3304k      0  0:06:40  0:02:17  0:04:23 3212k 0:02:33  0:03:58 2975k  2663k      0  0:06:13  0:03:01  0:03:12 3482k 3335k     0  0:05:53  0:03:55  0:01:58 3216k04:01  0:01:51 3135k:46  0:04:37  0:01:09 3337k3308k2892k      0  0:05:44  0:05:18  0:00:26 3337k246k05 3314k\n"
     ]
    }
   ],
   "source": [
    "!curl --insecure \\\n",
    "-O https://owl.fish.washington.edu/halfshell/genomic-databank/Pgenerosa_transcriptome_v5.fasta"
   ]
  },
  {
   "cell_type": "code",
   "execution_count": 15,
   "metadata": {},
   "outputs": [],
   "source": [
    "!mv Pgenerosa_transcriptome_v5.fasta ../data/Pgenerosa_transcriptome_v5.fasta"
   ]
  },
  {
   "cell_type": "code",
   "execution_count": 16,
   "metadata": {},
   "outputs": [
    {
     "name": "stdout",
     "output_type": "stream",
     "text": [
      "\n",
      "[build] loading fasta file ../data/Pgenerosa_transcriptome_v5.fasta\n",
      "[build] k-mer length: 31\n",
      "[build] warning: clipped off poly-A tail (longer than 10)\n",
      "        from 5780 target sequences\n",
      "[build] counting k-mers ... done.\n",
      "[build] building target de Bruijn graph ... ^C\n"
     ]
    }
   ],
   "source": [
    "!/Applications/bioinfo/kallisto/kallisto \\\n",
    "index -i ../data/transcriptome_v5.idx ../data/Pgenerosa_transcriptome_v5.fasta"
   ]
  },
  {
   "cell_type": "code",
   "execution_count": null,
   "metadata": {},
   "outputs": [],
   "source": [
    "!/Applications/bioinfo/kallisto/kalli../data/quant \\\n",
    "-i ../data/transcriptome_v5.idx \\\n",
    "-o ../analyses/output_01 \\\n",
    "-b 100 \\\n",
    "../data/Trueseq-stranded-mRNA-libraries-GeoRNA8-H1-NR021_S5_L001_R1_001.fastq \\\n",
    "../data/Trueseq-stranded-mRNA-libraries-GeoRNA8-H1-NR021_S5_L001_R2_001.fastq\n"
   ]
  }
 ],
 "metadata": {
  "kernelspec": {
   "display_name": "Python 3",
   "language": "python",
   "name": "python3"
  },
  "language_info": {
   "codemirror_mode": {
    "name": "ipython",
    "version": 3
   },
   "file_extension": ".py",
   "mimetype": "text/x-python",
   "name": "python",
   "nbconvert_exporter": "python",
   "pygments_lexer": "ipython3",
   "version": "3.8.5"
  }
 },
 "nbformat": 4,
 "nbformat_minor": 4
}
